{
 "cells": [
  {
   "cell_type": "markdown",
   "metadata": {},
   "source": [
    "# Applying Web Scraping On IMDB & Metascore Movie Ratings. #\n",
    "---\n",
    "\n",
    "## Purpose of this project: ## \n",
    "\n",
    "The objective is to showcase my familiarity using web scraping technique to collect data from web. \n",
    "\n",
    "## Table of content: ##\n",
    "\n",
    "* Find an efficient scraping framework and do a test run.\n",
    "    * [Extracting HTML Text and locating the data of interest.](#Extracting-HTML-Text-and-locating-the-data-of-interest.)\n",
    "    * [Finding scraping framework for each data of interest.](#Finding-scraping-framework-for-each-data-of-interest.)\n",
    "    * [Handling 'NoneType' data.](#Handling-'NoneType'-data.)\n",
    "    * [Compiling all the scraping frameworks and do a test run.](#Compiling-all-the-scraping-frameworks-and-do-a-test-run.)\n",
    "* Implement an actual run with the scraping framework. \n",
    "    * [Strategising multi-webpage scraping.](#Strategising-multi-webpage-scraping.)\n",
    "    * [Setting up URL parameters to make request over multi-webpage.](#Setting-up-URL-parameters-to-make-request-over-multi-webpage.)\n",
    "    * [Setting up crawl-rate control to avoid site traffic.](#Setting-up-crawl-rate-control-to-avoid-site-traffic.)\n",
    "    * [Setting up framework to monitor the crawl-rate.](#Setting-up-framework-to-monitor-the-crawl-rate.)\n",
    "    * [Compiling all scraping frameworks and set-up to begin scraping.](#Compiling-all-scraping-frameworks-and-set-up-to-begin-scraping.)\n",
    "* Save the dataset into CSV file. \n",
    "    * [Convert scraped data into dataframe object.](#Convert-scraped-data-into-dataframe-object.)\n",
    "    * [Minor data cleaning and save the dataset into CSV file.](#Minor-data-cleaning-and-save-the-dataset-into-CSV-file.)\n",
    "* [Notes for future reference.](#Notes-for-future-reference.)"
   ]
  },
  {
   "cell_type": "code",
   "execution_count": 1,
   "metadata": {},
   "outputs": [],
   "source": [
    "import pandas as pd\n",
    "import requests\n",
    "from bs4 import BeautifulSoup"
   ]
  },
  {
   "cell_type": "markdown",
   "metadata": {},
   "source": [
    "## Extracting HTML Text and locating the data of interest. ##\n",
    "\n",
    "Return to [Table of content:](#Table-of-content:)\n",
    "\n",
    "---\n",
    "\n",
    "Before the scraping procedure begins, the first thing is to extract the entire HTML text from an URL link. Then find only the HTML tags from the extracted HTML text that contain all the movies and their relevant data and store those data in a variable."
   ]
  },
  {
   "cell_type": "code",
   "execution_count": 2,
   "metadata": {},
   "outputs": [
    {
     "name": "stdout",
     "output_type": "stream",
     "text": [
      "\n",
      "\n",
      "\n",
      "<!DOCTYPE html>\n",
      "<html\n",
      "    xmlns:og=\"http://ogp.me/ns#\"\n",
      "    xmlns:fb=\"http://www.facebook.com/2008/fbml\">\n",
      "    <head>\n",
      "         \n",
      "        <meta charset=\"utf-8\">\n",
      "        <meta http-equiv=\"X-UA-Compatibl\n"
     ]
    }
   ],
   "source": [
    "url = \"https://www.imdb.com/search/title?release_date=2017&sort=num_votes,desc&count=100&page=1\"\n",
    "\n",
    "# Extract HTML text from the URL link.\n",
    "# Assign a parameter to `headers` to avoid translation issue.\n",
    "response = requests.get(url, headers={\"Accept-Language\": \"en-US, en;q=0.5\"})\n",
    "print(response.text[:200])"
   ]
  },
  {
   "cell_type": "code",
   "execution_count": 3,
   "metadata": {},
   "outputs": [
    {
     "name": "stdout",
     "output_type": "stream",
     "text": [
      "<class 'bs4.BeautifulSoup'>\n"
     ]
    }
   ],
   "source": [
    "# Parse `response.text` and create a Beautiful Soup object.\n",
    "html_soup = BeautifulSoup(response.text, \"html.parser\")\n",
    "print(type(html_soup))"
   ]
  },
  {
   "cell_type": "code",
   "execution_count": 4,
   "metadata": {},
   "outputs": [
    {
     "name": "stdout",
     "output_type": "stream",
     "text": [
      "<class 'bs4.element.ResultSet'>\n",
      "100\n"
     ]
    }
   ],
   "source": [
    "# Find only the `div` tags which contain the movies and their relevent data.\n",
    "movie_containers = html_soup.find_all(\"div\", class_=\"lister-item mode-advanced\")\n",
    "print(type(movie_containers))\n",
    "\n",
    "# Check whether the total list of movies matches the given URL link (...count=100).\n",
    "print(len(movie_containers))"
   ]
  },
  {
   "cell_type": "markdown",
   "metadata": {},
   "source": [
    "## Finding scraping framework for each data of interest. ##\n",
    "\n",
    "Return to [Table of content:](#Table-of-content:)\n",
    "\n",
    "---\n",
    "\n",
    "Select only the first movie and scrape each relevant data, by turn, to find the scraping framework. \n",
    "\n",
    "__Here's a list of relevant data:__\n",
    "\n",
    "* Title of the movie.\n",
    "* Year of release.\n",
    "* IMDB rating.\n",
    "* Metascore.\n",
    "* Number of votes."
   ]
  },
  {
   "cell_type": "code",
   "execution_count": 5,
   "metadata": {},
   "outputs": [
    {
     "name": "stdout",
     "output_type": "stream",
     "text": [
      "<div class=\"lister-item mode-advanced\">\n",
      "<div class=\"lister-top-right\">\n",
      "<div class=\"ribbonize\" data-caller=\"filmosearch\" data-tconst=\"tt3315342\"></div>\n",
      "</div>\n",
      "<div class=\"lister-item-image float-left\">\n",
      "<a href=\"/title/tt3315342/?ref_=adv_li_i\"> <img alt=\"Logan\" class=\"loadlate\" data-tconst=\"tt3315342\" height=\"98\" loadlate=\"https://m.media-amazon.com/images/M/MV5BYzc5MTU4N2EtYTkyMi00NjdhLTg3NWEtMTY4OTEyMzJhZTAzXkEyXkFqcGdeQXVyNjc1NTYyMjg@._V1_UX67_CR0,0,67,98_AL_.jpg\" src=\"https://m.media-amazon.com/images/G/01/imdb/images/nopicture/large/film-184890147._CB470041630_.png\" width=\"67\"/>\n",
      "</a> </div>\n",
      "<div class=\"lister-item-content\">\n",
      "<h3 class=\"lister-item-header\">\n",
      "<span class=\"lister-item-index unbold text-primary\">1.</span>\n",
      "<a href=\"/title/tt3315342/?ref_=adv_li_tt\">Logan</a>\n",
      "<span class=\"lister-item-year text-muted unbold\">(2017)</span>\n",
      "</h3>\n",
      "<p class=\"text-muted \">\n",
      "<span class=\"certificate\">R</span>\n",
      "<span class=\"ghost\">|</span>\n",
      "<span class=\"runtime\">137 min</span>\n",
      "<span class=\"ghost\">|</span>\n",
      "<span class=\"genre\">\n",
      "Action, Drama, Sci-Fi            </span>\n",
      "</p>\n",
      "<div class=\"ratings-bar\">\n",
      "<div class=\"inline-block ratings-imdb-rating\" data-value=\"8.1\" name=\"ir\">\n",
      "<span class=\"global-sprite rating-star imdb-rating\"></span>\n",
      "<strong>8.1</strong>\n",
      "</div>\n",
      "<div class=\"inline-block ratings-user-rating\">\n",
      "<span class=\"userRatingValue\" data-tconst=\"tt3315342\" id=\"urv_tt3315342\">\n",
      "<span class=\"global-sprite rating-star no-rating\"></span>\n",
      "<span class=\"rate\" data-no-rating=\"Rate this\" data-value=\"0\" name=\"ur\">Rate this</span>\n",
      "</span>\n",
      "<div class=\"starBarWidget\" id=\"sb_tt3315342\">\n",
      "<div class=\"rating rating-list\" data-auth=\"\" data-ga-identifier=\"\" data-starbar-class=\"rating-list\" data-user=\"\" id=\"tt3315342|imdb|8.1|8.1|||search|title\" itemprop=\"aggregateRating\" itemscope=\"\" itemtype=\"http://schema.org/AggregateRating\" title=\"Users rated this 8.1/10 (510,372 votes) - click stars to rate\">\n",
      "<meta content=\"8.1\" itemprop=\"ratingValue\"/>\n",
      "<meta content=\"10\" itemprop=\"bestRating\"/>\n",
      "<meta content=\"510372\" itemprop=\"ratingCount\"/>\n",
      "<span class=\"rating-bg\"> </span>\n",
      "<span class=\"rating-imdb \" style=\"width: 113.4px\"> </span>\n",
      "<span class=\"rating-stars\">\n",
      "<a href=\"/register/login?why=vote&amp;ref_=tt_ov_rt\" rel=\"nofollow\" title=\"Register or login to rate this title\"><span>1</span></a>\n",
      "<a href=\"/register/login?why=vote&amp;ref_=tt_ov_rt\" rel=\"nofollow\" title=\"Register or login to rate this title\"><span>2</span></a>\n",
      "<a href=\"/register/login?why=vote&amp;ref_=tt_ov_rt\" rel=\"nofollow\" title=\"Register or login to rate this title\"><span>3</span></a>\n",
      "<a href=\"/register/login?why=vote&amp;ref_=tt_ov_rt\" rel=\"nofollow\" title=\"Register or login to rate this title\"><span>4</span></a>\n",
      "<a href=\"/register/login?why=vote&amp;ref_=tt_ov_rt\" rel=\"nofollow\" title=\"Register or login to rate this title\"><span>5</span></a>\n",
      "<a href=\"/register/login?why=vote&amp;ref_=tt_ov_rt\" rel=\"nofollow\" title=\"Register or login to rate this title\"><span>6</span></a>\n",
      "<a href=\"/register/login?why=vote&amp;ref_=tt_ov_rt\" rel=\"nofollow\" title=\"Register or login to rate this title\"><span>7</span></a>\n",
      "<a href=\"/register/login?why=vote&amp;ref_=tt_ov_rt\" rel=\"nofollow\" title=\"Register or login to rate this title\"><span>8</span></a>\n",
      "<a href=\"/register/login?why=vote&amp;ref_=tt_ov_rt\" rel=\"nofollow\" title=\"Register or login to rate this title\"><span>9</span></a>\n",
      "<a href=\"/register/login?why=vote&amp;ref_=tt_ov_rt\" rel=\"nofollow\" title=\"Register or login to rate this title\"><span>10</span></a>\n",
      "</span>\n",
      "<span class=\"rating-rating \"><span class=\"value\">8.1</span><span class=\"grey\">/</span><span class=\"grey\">10</span></span>\n",
      "<span class=\"rating-cancel \"><a href=\"/title/tt3315342/vote?v=X;k=\" rel=\"nofollow\" title=\"Delete\"><span>X</span></a></span>\n",
      " </div>\n",
      "</div>\n",
      "</div>\n",
      "<div class=\"inline-block ratings-metascore\">\n",
      "<span class=\"metascore favorable\">77        </span>\n",
      "        Metascore\n",
      "            </div>\n",
      "</div>\n",
      "<p class=\"text-muted\">\n",
      "    In the near future, a weary Logan cares for an ailing Professor X, somewhere on the Mexican border. However, Logan's attempts to hide from the world, and his legacy, are upended when a young mutant arrives, pursued by dark forces.</p>\n",
      "<p class=\"\">\n",
      "    Director:\n",
      "<a href=\"/name/nm0003506/?ref_=adv_li_dr_0\">James Mangold</a>\n",
      "<span class=\"ghost\">|</span> \n",
      "    Stars:\n",
      "<a href=\"/name/nm0413168/?ref_=adv_li_st_0\">Hugh Jackman</a>, \n",
      "<a href=\"/name/nm0001772/?ref_=adv_li_st_1\">Patrick Stewart</a>, \n",
      "<a href=\"/name/nm6748436/?ref_=adv_li_st_2\">Dafne Keen</a>, \n",
      "<a href=\"/name/nm2933542/?ref_=adv_li_st_3\">Boyd Holbrook</a>\n",
      "</p>\n",
      "<p class=\"sort-num_votes-visible\">\n",
      "<span class=\"text-muted\">Votes:</span>\n",
      "<span data-value=\"510372\" name=\"nv\">510,372</span>\n",
      "<span class=\"ghost\">|</span> <span class=\"text-muted\">Gross:</span>\n",
      "<span data-value=\"226,277,068\" name=\"nv\">$226.28M</span>\n",
      "</p>\n",
      "</div>\n",
      "</div>\n"
     ]
    }
   ],
   "source": [
    "# Select the first movie and skim through the output.\n",
    "first_movie = movie_containers[0]\n",
    "print(first_movie)"
   ]
  },
  {
   "cell_type": "markdown",
   "metadata": {},
   "source": [
    "---\n",
    "__Scrape the title of the movie.__"
   ]
  },
  {
   "cell_type": "code",
   "execution_count": 6,
   "metadata": {},
   "outputs": [
    {
     "name": "stdout",
     "output_type": "stream",
     "text": [
      "Logan\n"
     ]
    }
   ],
   "source": [
    "# Scrape the movie title under `a` tag nested within `h3` tag with a `lister-item-header` class attribute.\n",
    "first_title = first_movie.find(\"h3\", class_=\"lister-item-header\").a.text\n",
    "print(first_title)"
   ]
  },
  {
   "cell_type": "markdown",
   "metadata": {},
   "source": [
    "---\n",
    "__Scrape the movie's year of release.__"
   ]
  },
  {
   "cell_type": "code",
   "execution_count": 7,
   "metadata": {},
   "outputs": [
    {
     "name": "stdout",
     "output_type": "stream",
     "text": [
      "(2017)\n"
     ]
    }
   ],
   "source": [
    "# Scrape the year under `span` tag nested within `h3` tag.\n",
    "first_year = first_movie.h3.find(\"span\", class_=\"lister-item-year text-muted unbold\").text\n",
    "print(first_year)"
   ]
  },
  {
   "cell_type": "markdown",
   "metadata": {},
   "source": [
    "---\n",
    "__Scrape the IMDB rating.__"
   ]
  },
  {
   "cell_type": "code",
   "execution_count": 8,
   "metadata": {},
   "outputs": [
    {
     "name": "stdout",
     "output_type": "stream",
     "text": [
      "<class 'float'>\n",
      "8.1\n"
     ]
    }
   ],
   "source": [
    "# Scrape the IMDB rating under `strong` tag.\n",
    "first_imdb = float(first_movie.strong.text)\n",
    "print(type(first_imdb))\n",
    "print(first_imdb)"
   ]
  },
  {
   "cell_type": "markdown",
   "metadata": {},
   "source": [
    "---\n",
    "__Scrape the Metascore rating.__"
   ]
  },
  {
   "cell_type": "code",
   "execution_count": 9,
   "metadata": {},
   "outputs": [
    {
     "name": "stdout",
     "output_type": "stream",
     "text": [
      "<class 'int'>\n",
      "77\n"
     ]
    }
   ],
   "source": [
    "# Scrape the Metascore rating under `span` tag with a `metascore` class attribute.\n",
    "first_mscore = int(first_movie.find(\"span\", class_=\"metascore\").text)\n",
    "print(type(first_mscore))\n",
    "print(first_mscore)"
   ]
  },
  {
   "cell_type": "markdown",
   "metadata": {},
   "source": [
    "---\n",
    "__Scrape the number of votes.__"
   ]
  },
  {
   "cell_type": "code",
   "execution_count": 10,
   "metadata": {},
   "outputs": [
    {
     "name": "stdout",
     "output_type": "stream",
     "text": [
      "<class 'int'>\n",
      "510372\n"
     ]
    }
   ],
   "source": [
    "# Find the votes number under `span` tag with a `nv` name attribute.\n",
    "first_votes = first_movie.find(\"span\", attrs = {\"name\": \"nv\"})\n",
    "print(type(int(first_votes[\"data-value\"])))\n",
    "\n",
    "# Scrape the votes number under the `data-value` attributes.\n",
    "print(int(first_votes[\"data-value\"]))"
   ]
  },
  {
   "cell_type": "markdown",
   "metadata": {},
   "source": [
    "## Handling 'NoneType' data. ##\n",
    "\n",
    "Return to [Table of content:](#Table-of-content:)\n",
    "\n",
    "---\n",
    "\n",
    "During the scarping process, if any specific HTML tag is not availble due to the unavailable data, the output will return a null value. Hence, to prevent runtime error, my approach is to first identify the part on both the websites and HTML where the null value occurs. "
   ]
  },
  {
   "cell_type": "code",
   "execution_count": 11,
   "metadata": {},
   "outputs": [
    {
     "name": "stdout",
     "output_type": "stream",
     "text": [
      "<class 'NoneType'>\n"
     ]
    }
   ],
   "source": [
    "# Check the obejct type for unavailable data.\n",
    "movie_no_mscore = movie_containers[22].find(\"div\", class_=\"ratings-metascore\")\n",
    "print(type(movie_no_mscore))"
   ]
  },
  {
   "cell_type": "markdown",
   "metadata": {},
   "source": [
    "---\n",
    "As you can see, some movies do not have metascore, thus the output returns a null value. My approach to this problem is to implement `if` statement to ignore any movie without metascore."
   ]
  },
  {
   "cell_type": "markdown",
   "metadata": {},
   "source": [
    "## Compiling all the scraping frameworks and do a test run. ##\n",
    "\n",
    "Return to [Table of content:](#Table-of-content:)\n",
    "\n",
    "---\n",
    "\n",
    "Before proceding to the next step, do a test run to ensure all the scraping frameworks work fine when compiled together."
   ]
  },
  {
   "cell_type": "code",
   "execution_count": 12,
   "metadata": {},
   "outputs": [],
   "source": [
    "# Create lists to store all the scraped data.\n",
    "titles = []\n",
    "years = []\n",
    "imdb_ratings = []\n",
    "metascores = []\n",
    "votes = []\n",
    "\n",
    "# Repeat the scraping process over 10 movies.\n",
    "for movie in movie_containers[0:10]: \n",
    "    \n",
    "    # Check whether movie contains metascore.\n",
    "    movie_no_mscore = movie.find(\"div\", class_=\"ratings-metascore\")\n",
    "\n",
    "    # If movie contains metascore, then:\n",
    "    if movie_no_mscore is not None:      \n",
    "        # Scrape and append each data to the specific list.\n",
    "        title = movie.find(\"h3\", class_=\"lister-item-header\").a.text\n",
    "        titles.append(title)\n",
    "\n",
    "        year = movie.h3.find(\"span\", class_=\"lister-item-year text-muted unbold\").text\n",
    "        years.append(year)\n",
    "\n",
    "        imdb = movie.strong.text\n",
    "        imdb_ratings.append(float(imdb))\n",
    "\n",
    "        mscore = movie.find(\"span\", class_=\"metascore\").text\n",
    "        metascores.append(int(mscore))\n",
    "\n",
    "        vote = movie.find(\"span\", attrs = {\"name\": \"nv\"})[\"data-value\"]\n",
    "        votes.append(int(vote))"
   ]
  },
  {
   "cell_type": "markdown",
   "metadata": {},
   "source": [
    "__Check the scraping result in dataframe object.__"
   ]
  },
  {
   "cell_type": "code",
   "execution_count": 13,
   "metadata": {},
   "outputs": [
    {
     "name": "stdout",
     "output_type": "stream",
     "text": [
      "<class 'pandas.core.frame.DataFrame'>\n",
      "RangeIndex: 10 entries, 0 to 9\n",
      "Data columns (total 5 columns):\n",
      "movies       10 non-null object\n",
      "year         10 non-null object\n",
      "imdb         10 non-null float64\n",
      "metascore    10 non-null int64\n",
      "votes        10 non-null int64\n",
      "dtypes: float64(1), int64(2), object(2)\n",
      "memory usage: 480.0+ bytes\n",
      "None\n"
     ]
    },
    {
     "data": {
      "text/html": [
       "<div>\n",
       "<style scoped>\n",
       "    .dataframe tbody tr th:only-of-type {\n",
       "        vertical-align: middle;\n",
       "    }\n",
       "\n",
       "    .dataframe tbody tr th {\n",
       "        vertical-align: top;\n",
       "    }\n",
       "\n",
       "    .dataframe thead th {\n",
       "        text-align: right;\n",
       "    }\n",
       "</style>\n",
       "<table border=\"1\" class=\"dataframe\">\n",
       "  <thead>\n",
       "    <tr style=\"text-align: right;\">\n",
       "      <th></th>\n",
       "      <th>movies</th>\n",
       "      <th>year</th>\n",
       "      <th>imdb</th>\n",
       "      <th>metascore</th>\n",
       "      <th>votes</th>\n",
       "    </tr>\n",
       "  </thead>\n",
       "  <tbody>\n",
       "    <tr>\n",
       "      <th>0</th>\n",
       "      <td>Logan</td>\n",
       "      <td>(2017)</td>\n",
       "      <td>8.1</td>\n",
       "      <td>77</td>\n",
       "      <td>510372</td>\n",
       "    </tr>\n",
       "    <tr>\n",
       "      <th>1</th>\n",
       "      <td>Wonder Woman</td>\n",
       "      <td>(2017)</td>\n",
       "      <td>7.5</td>\n",
       "      <td>76</td>\n",
       "      <td>437812</td>\n",
       "    </tr>\n",
       "    <tr>\n",
       "      <th>2</th>\n",
       "      <td>Dunkirk</td>\n",
       "      <td>(2017)</td>\n",
       "      <td>8.0</td>\n",
       "      <td>94</td>\n",
       "      <td>419985</td>\n",
       "    </tr>\n",
       "    <tr>\n",
       "      <th>3</th>\n",
       "      <td>Star Wars: The Last Jedi</td>\n",
       "      <td>(2017)</td>\n",
       "      <td>7.2</td>\n",
       "      <td>85</td>\n",
       "      <td>416710</td>\n",
       "    </tr>\n",
       "    <tr>\n",
       "      <th>4</th>\n",
       "      <td>Guardians of the Galaxy Vol. 2</td>\n",
       "      <td>(2017)</td>\n",
       "      <td>7.7</td>\n",
       "      <td>67</td>\n",
       "      <td>412523</td>\n",
       "    </tr>\n",
       "    <tr>\n",
       "      <th>5</th>\n",
       "      <td>Thor: Ragnarok</td>\n",
       "      <td>(2017)</td>\n",
       "      <td>7.9</td>\n",
       "      <td>74</td>\n",
       "      <td>388962</td>\n",
       "    </tr>\n",
       "    <tr>\n",
       "      <th>6</th>\n",
       "      <td>Spider-Man: Homecoming</td>\n",
       "      <td>(2017)</td>\n",
       "      <td>7.5</td>\n",
       "      <td>73</td>\n",
       "      <td>359437</td>\n",
       "    </tr>\n",
       "    <tr>\n",
       "      <th>7</th>\n",
       "      <td>Get Out</td>\n",
       "      <td>(I) (2017)</td>\n",
       "      <td>7.7</td>\n",
       "      <td>84</td>\n",
       "      <td>333820</td>\n",
       "    </tr>\n",
       "    <tr>\n",
       "      <th>8</th>\n",
       "      <td>Blade Runner 2049</td>\n",
       "      <td>(2017)</td>\n",
       "      <td>8.1</td>\n",
       "      <td>81</td>\n",
       "      <td>332841</td>\n",
       "    </tr>\n",
       "    <tr>\n",
       "      <th>9</th>\n",
       "      <td>Baby Driver</td>\n",
       "      <td>(2017)</td>\n",
       "      <td>7.6</td>\n",
       "      <td>86</td>\n",
       "      <td>325723</td>\n",
       "    </tr>\n",
       "  </tbody>\n",
       "</table>\n",
       "</div>"
      ],
      "text/plain": [
       "                           movies        year  imdb  metascore   votes\n",
       "0                           Logan      (2017)   8.1         77  510372\n",
       "1                    Wonder Woman      (2017)   7.5         76  437812\n",
       "2                         Dunkirk      (2017)   8.0         94  419985\n",
       "3        Star Wars: The Last Jedi      (2017)   7.2         85  416710\n",
       "4  Guardians of the Galaxy Vol. 2      (2017)   7.7         67  412523\n",
       "5                  Thor: Ragnarok      (2017)   7.9         74  388962\n",
       "6          Spider-Man: Homecoming      (2017)   7.5         73  359437\n",
       "7                         Get Out  (I) (2017)   7.7         84  333820\n",
       "8               Blade Runner 2049      (2017)   8.1         81  332841\n",
       "9                     Baby Driver      (2017)   7.6         86  325723"
      ]
     },
     "execution_count": 13,
     "metadata": {},
     "output_type": "execute_result"
    }
   ],
   "source": [
    "test_df = pd.DataFrame({\n",
    "    \"movies\": titles,\n",
    "    \"year\": years,\n",
    "    \"imdb\": imdb_ratings,\n",
    "    \"metascore\": metascores,\n",
    "    \"votes\": votes\n",
    "    }\n",
    ")\n",
    "\n",
    "print(test_df.info())\n",
    "test_df"
   ]
  },
  {
   "cell_type": "markdown",
   "metadata": {},
   "source": [
    "## Strategising multi-webpage scraping. ##\n",
    "\n",
    "Return to [Table of content:](#Table-of-content:)\n",
    "\n",
    "---\n",
    "\n",
    "__After running a scraping test for a single URL link, the next step is to figure out a way to repeat the scraping framework over multiple URL links:__\n",
    "\n",
    "* According to my observation, there are 100 movies for a single URL link. 2 pages are enough to scrape a maximum of 200 movies each year. Since the objective is to scrape movies starting from year 2000-2017, there will be a maximum of 3600 list of movies altogether. Although some movies without metascore will be ignored, it is still very likely to scrape at least 2000 movies.\n",
    "\n",
    "* Finally, controlling the crawl-rate is vital to prevent the server from banning the IP address. Additionally, it keeps from disrupting the activity of the website by allowing the server to respond to other users' requests too."
   ]
  },
  {
   "cell_type": "markdown",
   "metadata": {},
   "source": [
    "## Setting up URL parameters to make request over multi-webpage. ##\n",
    "\n",
    "Return to [Table of content:](#Table-of-content:)"
   ]
  },
  {
   "cell_type": "code",
   "execution_count": 14,
   "metadata": {},
   "outputs": [],
   "source": [
    "url_pages = [str(page) for page in range(1,3)]\n",
    "url_years = [str(year) for year in range(2000,2018)]"
   ]
  },
  {
   "cell_type": "markdown",
   "metadata": {},
   "source": [
    "## Setting up crawl-rate control to avoid site traffic. ##\n",
    "\n",
    "Return to [Table of content:](#Table-of-content:)"
   ]
  },
  {
   "cell_type": "code",
   "execution_count": 15,
   "metadata": {},
   "outputs": [
    {
     "name": "stdout",
     "output_type": "stream",
     "text": [
      "Blah\n",
      "Blah\n",
      "Blah\n",
      "Blah\n",
      "Blah\n"
     ]
    }
   ],
   "source": [
    "from time import sleep, time\n",
    "from random import randint\n",
    "\n",
    "# Output \"blah\" for every random seconds between 1 to 3.\n",
    "for _ in range(5):\n",
    "    print(\"Blah\")\n",
    "    sleep(randint(1,4))"
   ]
  },
  {
   "cell_type": "markdown",
   "metadata": {},
   "source": [
    "---\n",
    "## Setting up framework to monitor the crawl-rate. ##\n",
    "\n",
    "Return to [Table of content:](#Table-of-content:)"
   ]
  },
  {
   "cell_type": "code",
   "execution_count": 16,
   "metadata": {},
   "outputs": [
    {
     "name": "stdout",
     "output_type": "stream",
     "text": [
      "Request: 1; Frequency: 0.9974535149959144 requests/s\n",
      "Request: 2; Frequency: 0.6652134218412246 requests/s\n",
      "Request: 3; Frequency: 0.7478595987348288 requests/s\n",
      "Request: 4; Frequency: 0.7979067973916388 requests/s\n",
      "Request: 5; Frequency: 0.8314011364433754 requests/s\n"
     ]
    }
   ],
   "source": [
    "start_time = time()\n",
    "request = 0\n",
    "\n",
    "# For each new request, calculate the number of request per second.\n",
    "for _ in range(5):\n",
    "    request += 1\n",
    "    sleep(randint(1,3))\n",
    "    elapsed_time = time() - start_time\n",
    "    print(\"Request: {}; Frequency: {} requests/s\".format(request, request / elapsed_time))"
   ]
  },
  {
   "cell_type": "markdown",
   "metadata": {},
   "source": [
    "---\n",
    "__Setting up `clear_output` to only display the latest output.__"
   ]
  },
  {
   "cell_type": "code",
   "execution_count": 17,
   "metadata": {},
   "outputs": [
    {
     "name": "stdout",
     "output_type": "stream",
     "text": [
      "Request: 5; Frequency: 0.4987569556331597 requests/s\n"
     ]
    }
   ],
   "source": [
    "from IPython.core.display import clear_output\n",
    "\n",
    "start_time = time()\n",
    "request = 0\n",
    "\n",
    "for _ in range(5):\n",
    "    request += 1\n",
    "    sleep(randint(1,3))\n",
    "    elapsed_time = time() - start_time\n",
    "    print(\"Request: {}; Frequency: {} requests/s\".format(request, request / elapsed_time))\n",
    "    clear_output(wait=True)"
   ]
  },
  {
   "cell_type": "markdown",
   "metadata": {},
   "source": [
    "---\n",
    "__Setting up warning to inform unsuccessful status code.__"
   ]
  },
  {
   "cell_type": "code",
   "execution_count": 18,
   "metadata": {},
   "outputs": [
    {
     "name": "stderr",
     "output_type": "stream",
     "text": [
      "/Users/lioneltay/Applications/anaconda3/lib/python3.6/site-packages/ipykernel_launcher.py:3: UserWarning: Warning simulation\n",
      "  This is separate from the ipykernel package so we can avoid doing imports until\n"
     ]
    }
   ],
   "source": [
    "from warnings import warn\n",
    "\n",
    "warn(\"Warning simulation\")"
   ]
  },
  {
   "cell_type": "markdown",
   "metadata": {},
   "source": [
    "## Compiling all scraping frameworks and set-up to begin scraping. ##\n",
    "\n",
    "Return to [Table of content:](#Table-of-content:)\n",
    "\n",
    "---"
   ]
  },
  {
   "cell_type": "code",
   "execution_count": 19,
   "metadata": {
    "scrolled": true
   },
   "outputs": [
    {
     "name": "stdout",
     "output_type": "stream",
     "text": [
      "Response: 36; Frequency: 0.06802559686732557 requests/s\n"
     ]
    }
   ],
   "source": [
    "# Create lists to store the scraped data.\n",
    "titles = []\n",
    "years = []\n",
    "imdb_ratings = []\n",
    "metascores = []\n",
    "votes = []\n",
    "\n",
    "# Prepare for the crawl-rate monitoring.\n",
    "start_time = time()\n",
    "request = 0\n",
    "\n",
    "# Loop through each year from 2000 to 2018.\n",
    "for url_year in url_years:   \n",
    "    \n",
    "    # Loop through each page from 1 to 2.\n",
    "    for url_page in url_pages:\n",
    "        \n",
    "        # Get the HTML text from the URL link.\n",
    "        url = \"https://www.imdb.com/search/title?release_date={year}&sort=num_votes,desc&count=100&page={page}\".format(year=url_year, page=url_page)\n",
    "        response = requests.get(url, headers={\"Accept-Language\": \"en-US, en;q=0.5\"})\n",
    "        request += 1\n",
    "        \n",
    "        # Pause the loop for every random seconds between 8 to 15.\n",
    "        sleep(randint(8,15))\n",
    "        \n",
    "        # Set up crawl-rate monitoring.\n",
    "        elapsed_time = time() - start_time\n",
    "        print(\"Response: {}; Frequency: {} requests/s\".format(request, request / elapsed_time))\n",
    "        clear_output(wait=True)\n",
    "        \n",
    "        # Warn unsuccessful status code.\n",
    "        if response.status_code != 200:\n",
    "            warn('Request: {}; Status code: {}'.format(request, response.status_code))\n",
    "            \n",
    "        # Break the loop if request number is greater than 36 (total requests).\n",
    "        if request > 36:\n",
    "            warn(\"Request number is greater than 36.\")\n",
    "            break\n",
    "        \n",
    "        # Parse `response.text` and create a Beautiful Soup object.\n",
    "        page_html = BeautifulSoup(response.text, \"html.parser\")\n",
    "        \n",
    "        # Find only the `div` tags which contain movies and its relevent data.\n",
    "        mv_containers = page_html.find_all(\"div\", class_=\"lister-item mode-advanced\")\n",
    "\n",
    "        # Loop through the list of movies to repeat the scraping process.\n",
    "        for mv in mv_containers:     \n",
    "            # Check whether movie contains metascore.\n",
    "            mv_mscore = mv.find(\"div\", class_=\"ratings-metascore\")\n",
    "            \n",
    "            # If movie contains metascore, then:\n",
    "            if mv_mscore is not None:\n",
    "                # Scrape and append each data to the specific list.\n",
    "                title = mv.find(\"h3\", class_=\"lister-item-header\").a.text\n",
    "                titles.append(title)\n",
    "\n",
    "                year = mv.h3.find(\"span\", class_=\"lister-item-year text-muted unbold\").text\n",
    "                years.append(year)\n",
    "\n",
    "                imdb = mv.strong.text\n",
    "                imdb_ratings.append(float(imdb))\n",
    "\n",
    "                mscore = mv.find(\"span\", class_=\"metascore\").text\n",
    "                metascores.append(int(mscore))\n",
    "\n",
    "                vote = mv.find(\"span\", attrs = {\"name\": \"nv\"})[\"data-value\"]\n",
    "                votes.append(int(vote))"
   ]
  },
  {
   "cell_type": "markdown",
   "metadata": {},
   "source": [
    "## Convert scraped data into dataframe object. ##\n",
    "\n",
    "Return to [Table of content:](#Table-of-content:)\n",
    "\n",
    "---"
   ]
  },
  {
   "cell_type": "code",
   "execution_count": 20,
   "metadata": {},
   "outputs": [
    {
     "name": "stdout",
     "output_type": "stream",
     "text": [
      "<class 'pandas.core.frame.DataFrame'>\n",
      "RangeIndex: 2948 entries, 0 to 2947\n",
      "Data columns (total 5 columns):\n",
      "movies       2948 non-null object\n",
      "year         2948 non-null object\n",
      "imdb         2948 non-null float64\n",
      "metascore    2948 non-null int64\n",
      "votes        2948 non-null int64\n",
      "dtypes: float64(1), int64(2), object(2)\n",
      "memory usage: 115.2+ KB\n",
      "None\n"
     ]
    },
    {
     "data": {
      "text/html": [
       "<div>\n",
       "<style scoped>\n",
       "    .dataframe tbody tr th:only-of-type {\n",
       "        vertical-align: middle;\n",
       "    }\n",
       "\n",
       "    .dataframe tbody tr th {\n",
       "        vertical-align: top;\n",
       "    }\n",
       "\n",
       "    .dataframe thead th {\n",
       "        text-align: right;\n",
       "    }\n",
       "</style>\n",
       "<table border=\"1\" class=\"dataframe\">\n",
       "  <thead>\n",
       "    <tr style=\"text-align: right;\">\n",
       "      <th></th>\n",
       "      <th>movies</th>\n",
       "      <th>year</th>\n",
       "      <th>imdb</th>\n",
       "      <th>metascore</th>\n",
       "      <th>votes</th>\n",
       "    </tr>\n",
       "  </thead>\n",
       "  <tbody>\n",
       "    <tr>\n",
       "      <th>0</th>\n",
       "      <td>Gladiator</td>\n",
       "      <td>(2000)</td>\n",
       "      <td>8.5</td>\n",
       "      <td>67</td>\n",
       "      <td>1155643</td>\n",
       "    </tr>\n",
       "    <tr>\n",
       "      <th>1</th>\n",
       "      <td>Memento</td>\n",
       "      <td>(2000)</td>\n",
       "      <td>8.5</td>\n",
       "      <td>80</td>\n",
       "      <td>991943</td>\n",
       "    </tr>\n",
       "    <tr>\n",
       "      <th>2</th>\n",
       "      <td>Snatch</td>\n",
       "      <td>(2000)</td>\n",
       "      <td>8.3</td>\n",
       "      <td>55</td>\n",
       "      <td>693236</td>\n",
       "    </tr>\n",
       "    <tr>\n",
       "      <th>3</th>\n",
       "      <td>Requiem for a Dream</td>\n",
       "      <td>(2000)</td>\n",
       "      <td>8.3</td>\n",
       "      <td>68</td>\n",
       "      <td>673397</td>\n",
       "    </tr>\n",
       "    <tr>\n",
       "      <th>4</th>\n",
       "      <td>X-Men</td>\n",
       "      <td>(2000)</td>\n",
       "      <td>7.4</td>\n",
       "      <td>64</td>\n",
       "      <td>516669</td>\n",
       "    </tr>\n",
       "    <tr>\n",
       "      <th>5</th>\n",
       "      <td>Cast Away</td>\n",
       "      <td>(2000)</td>\n",
       "      <td>7.8</td>\n",
       "      <td>73</td>\n",
       "      <td>454808</td>\n",
       "    </tr>\n",
       "    <tr>\n",
       "      <th>6</th>\n",
       "      <td>American Psycho</td>\n",
       "      <td>(2000)</td>\n",
       "      <td>7.6</td>\n",
       "      <td>64</td>\n",
       "      <td>413578</td>\n",
       "    </tr>\n",
       "    <tr>\n",
       "      <th>7</th>\n",
       "      <td>Unbreakable</td>\n",
       "      <td>(2000)</td>\n",
       "      <td>7.3</td>\n",
       "      <td>62</td>\n",
       "      <td>304556</td>\n",
       "    </tr>\n",
       "    <tr>\n",
       "      <th>8</th>\n",
       "      <td>Meet the Parents</td>\n",
       "      <td>(2000)</td>\n",
       "      <td>7.0</td>\n",
       "      <td>73</td>\n",
       "      <td>286175</td>\n",
       "    </tr>\n",
       "    <tr>\n",
       "      <th>9</th>\n",
       "      <td>Mission: Impossible II</td>\n",
       "      <td>(2000)</td>\n",
       "      <td>6.1</td>\n",
       "      <td>59</td>\n",
       "      <td>279510</td>\n",
       "    </tr>\n",
       "    <tr>\n",
       "      <th>10</th>\n",
       "      <td>O Brother, Where Art Thou?</td>\n",
       "      <td>(2000)</td>\n",
       "      <td>7.8</td>\n",
       "      <td>69</td>\n",
       "      <td>254281</td>\n",
       "    </tr>\n",
       "    <tr>\n",
       "      <th>11</th>\n",
       "      <td>Gone in Sixty Seconds</td>\n",
       "      <td>(2000)</td>\n",
       "      <td>6.5</td>\n",
       "      <td>35</td>\n",
       "      <td>239521</td>\n",
       "    </tr>\n",
       "    <tr>\n",
       "      <th>12</th>\n",
       "      <td>Crouching Tiger, Hidden Dragon</td>\n",
       "      <td>(2000)</td>\n",
       "      <td>7.9</td>\n",
       "      <td>93</td>\n",
       "      <td>234937</td>\n",
       "    </tr>\n",
       "    <tr>\n",
       "      <th>13</th>\n",
       "      <td>The Patriot</td>\n",
       "      <td>(2000)</td>\n",
       "      <td>7.2</td>\n",
       "      <td>63</td>\n",
       "      <td>230580</td>\n",
       "    </tr>\n",
       "    <tr>\n",
       "      <th>14</th>\n",
       "      <td>Almost Famous</td>\n",
       "      <td>(2000)</td>\n",
       "      <td>7.9</td>\n",
       "      <td>90</td>\n",
       "      <td>229060</td>\n",
       "    </tr>\n",
       "  </tbody>\n",
       "</table>\n",
       "</div>"
      ],
      "text/plain": [
       "                            movies    year  imdb  metascore    votes\n",
       "0                        Gladiator  (2000)   8.5         67  1155643\n",
       "1                          Memento  (2000)   8.5         80   991943\n",
       "2                           Snatch  (2000)   8.3         55   693236\n",
       "3              Requiem for a Dream  (2000)   8.3         68   673397\n",
       "4                            X-Men  (2000)   7.4         64   516669\n",
       "5                        Cast Away  (2000)   7.8         73   454808\n",
       "6                  American Psycho  (2000)   7.6         64   413578\n",
       "7                      Unbreakable  (2000)   7.3         62   304556\n",
       "8                 Meet the Parents  (2000)   7.0         73   286175\n",
       "9           Mission: Impossible II  (2000)   6.1         59   279510\n",
       "10      O Brother, Where Art Thou?  (2000)   7.8         69   254281\n",
       "11           Gone in Sixty Seconds  (2000)   6.5         35   239521\n",
       "12  Crouching Tiger, Hidden Dragon  (2000)   7.9         93   234937\n",
       "13                     The Patriot  (2000)   7.2         63   230580\n",
       "14                   Almost Famous  (2000)   7.9         90   229060"
      ]
     },
     "execution_count": 20,
     "metadata": {},
     "output_type": "execute_result"
    }
   ],
   "source": [
    "movie_ratings = pd.DataFrame({\n",
    "    \"movies\": titles,\n",
    "    \"year\": years,\n",
    "    \"imdb\": imdb_ratings,\n",
    "    \"metascore\": metascores,\n",
    "    \"votes\": votes\n",
    "    }\n",
    ")\n",
    "\n",
    "# Check the result.\n",
    "print(movie_ratings.info())\n",
    "movie_ratings.head(15)"
   ]
  },
  {
   "cell_type": "markdown",
   "metadata": {},
   "source": [
    "## Minor data cleaning and save the dataset into CSV file. ##\n",
    "\n",
    "Return to [Table of content:](#Table-of-content:)\n",
    "\n",
    "---\n",
    "\n",
    "__Sorting the order of the columns.__"
   ]
  },
  {
   "cell_type": "code",
   "execution_count": 21,
   "metadata": {},
   "outputs": [
    {
     "data": {
      "text/html": [
       "<div>\n",
       "<style scoped>\n",
       "    .dataframe tbody tr th:only-of-type {\n",
       "        vertical-align: middle;\n",
       "    }\n",
       "\n",
       "    .dataframe tbody tr th {\n",
       "        vertical-align: top;\n",
       "    }\n",
       "\n",
       "    .dataframe thead th {\n",
       "        text-align: right;\n",
       "    }\n",
       "</style>\n",
       "<table border=\"1\" class=\"dataframe\">\n",
       "  <thead>\n",
       "    <tr style=\"text-align: right;\">\n",
       "      <th></th>\n",
       "      <th>movies</th>\n",
       "      <th>year</th>\n",
       "      <th>imdb</th>\n",
       "      <th>metascore</th>\n",
       "      <th>votes</th>\n",
       "    </tr>\n",
       "  </thead>\n",
       "  <tbody>\n",
       "    <tr>\n",
       "      <th>0</th>\n",
       "      <td>Gladiator</td>\n",
       "      <td>(2000)</td>\n",
       "      <td>8.5</td>\n",
       "      <td>67</td>\n",
       "      <td>1155643</td>\n",
       "    </tr>\n",
       "    <tr>\n",
       "      <th>1</th>\n",
       "      <td>Memento</td>\n",
       "      <td>(2000)</td>\n",
       "      <td>8.5</td>\n",
       "      <td>80</td>\n",
       "      <td>991943</td>\n",
       "    </tr>\n",
       "    <tr>\n",
       "      <th>2</th>\n",
       "      <td>Snatch</td>\n",
       "      <td>(2000)</td>\n",
       "      <td>8.3</td>\n",
       "      <td>55</td>\n",
       "      <td>693236</td>\n",
       "    </tr>\n",
       "    <tr>\n",
       "      <th>3</th>\n",
       "      <td>Requiem for a Dream</td>\n",
       "      <td>(2000)</td>\n",
       "      <td>8.3</td>\n",
       "      <td>68</td>\n",
       "      <td>673397</td>\n",
       "    </tr>\n",
       "    <tr>\n",
       "      <th>4</th>\n",
       "      <td>X-Men</td>\n",
       "      <td>(2000)</td>\n",
       "      <td>7.4</td>\n",
       "      <td>64</td>\n",
       "      <td>516669</td>\n",
       "    </tr>\n",
       "  </tbody>\n",
       "</table>\n",
       "</div>"
      ],
      "text/plain": [
       "                movies    year  imdb  metascore    votes\n",
       "0            Gladiator  (2000)   8.5         67  1155643\n",
       "1              Memento  (2000)   8.5         80   991943\n",
       "2               Snatch  (2000)   8.3         55   693236\n",
       "3  Requiem for a Dream  (2000)   8.3         68   673397\n",
       "4                X-Men  (2000)   7.4         64   516669"
      ]
     },
     "execution_count": 21,
     "metadata": {},
     "output_type": "execute_result"
    }
   ],
   "source": [
    "movie_ratings = movie_ratings[[\"movies\", \"year\", \"imdb\", \"metascore\", \"votes\"]]\n",
    "movie_ratings.head()"
   ]
  },
  {
   "cell_type": "markdown",
   "metadata": {},
   "source": [
    "---\n",
    "__Converting the `dtype` under `year` column to integer without any bracket or symbol.__ First, find out all the unique values in order to figure out an efficient way to extract the year value."
   ]
  },
  {
   "cell_type": "code",
   "execution_count": 22,
   "metadata": {},
   "outputs": [
    {
     "data": {
      "text/plain": [
       "array(['(2000)', '(I) (2000)', '(2001)', '(I) (2001)', '(2002)',\n",
       "       '(I) (2002)', '(2003)', '(I) (2003)', '(2004)', '(I) (2004)',\n",
       "       '(2005)', '(I) (2005)', '(2006)', '(I) (2006)', '(2007)',\n",
       "       '(I) (2007)', '(2008)', '(I) (2008)', '(2009)', '(I) (2009)',\n",
       "       '(II) (2009)', '(2010)', '(I) (2010)', '(II) (2010)', '(2011)',\n",
       "       '(I) (2011)', '(IV) (2011)', '(2012)', '(I) (2012)', '(II) (2012)',\n",
       "       '(2013)', '(I) (2013)', '(II) (2013)', '(2014)', '(I) (2014)',\n",
       "       '(II) (2014)', '(III) (2014)', '(2015)', '(I) (2015)',\n",
       "       '(II) (2015)', '(VI) (2015)', '(III) (2015)', '(2016)',\n",
       "       '(II) (2016)', '(I) (2016)', '(IX) (2016)', '(V) (2016)', '(2017)',\n",
       "       '(I) (2017)', '(III) (2017)', '(II) (2017)'], dtype=object)"
      ]
     },
     "execution_count": 22,
     "metadata": {},
     "output_type": "execute_result"
    }
   ],
   "source": [
    "movie_ratings[\"year\"].unique()"
   ]
  },
  {
   "cell_type": "markdown",
   "metadata": {},
   "source": [
    "---\n",
    "Since all the year values are placed after the symbolic value, and all of them follow the same format struture, my approach is to extract the value starting from the end using pandas string slicing."
   ]
  },
  {
   "cell_type": "code",
   "execution_count": 23,
   "metadata": {},
   "outputs": [
    {
     "data": {
      "text/html": [
       "<div>\n",
       "<style scoped>\n",
       "    .dataframe tbody tr th:only-of-type {\n",
       "        vertical-align: middle;\n",
       "    }\n",
       "\n",
       "    .dataframe tbody tr th {\n",
       "        vertical-align: top;\n",
       "    }\n",
       "\n",
       "    .dataframe thead th {\n",
       "        text-align: right;\n",
       "    }\n",
       "</style>\n",
       "<table border=\"1\" class=\"dataframe\">\n",
       "  <thead>\n",
       "    <tr style=\"text-align: right;\">\n",
       "      <th></th>\n",
       "      <th>movies</th>\n",
       "      <th>year</th>\n",
       "      <th>imdb</th>\n",
       "      <th>metascore</th>\n",
       "      <th>votes</th>\n",
       "    </tr>\n",
       "  </thead>\n",
       "  <tbody>\n",
       "    <tr>\n",
       "      <th>0</th>\n",
       "      <td>Gladiator</td>\n",
       "      <td>2000</td>\n",
       "      <td>8.5</td>\n",
       "      <td>67</td>\n",
       "      <td>1155643</td>\n",
       "    </tr>\n",
       "    <tr>\n",
       "      <th>1</th>\n",
       "      <td>Memento</td>\n",
       "      <td>2000</td>\n",
       "      <td>8.5</td>\n",
       "      <td>80</td>\n",
       "      <td>991943</td>\n",
       "    </tr>\n",
       "    <tr>\n",
       "      <th>2</th>\n",
       "      <td>Snatch</td>\n",
       "      <td>2000</td>\n",
       "      <td>8.3</td>\n",
       "      <td>55</td>\n",
       "      <td>693236</td>\n",
       "    </tr>\n",
       "    <tr>\n",
       "      <th>3</th>\n",
       "      <td>Requiem for a Dream</td>\n",
       "      <td>2000</td>\n",
       "      <td>8.3</td>\n",
       "      <td>68</td>\n",
       "      <td>673397</td>\n",
       "    </tr>\n",
       "    <tr>\n",
       "      <th>4</th>\n",
       "      <td>X-Men</td>\n",
       "      <td>2000</td>\n",
       "      <td>7.4</td>\n",
       "      <td>64</td>\n",
       "      <td>516669</td>\n",
       "    </tr>\n",
       "  </tbody>\n",
       "</table>\n",
       "</div>"
      ],
      "text/plain": [
       "                movies  year  imdb  metascore    votes\n",
       "0            Gladiator  2000   8.5         67  1155643\n",
       "1              Memento  2000   8.5         80   991943\n",
       "2               Snatch  2000   8.3         55   693236\n",
       "3  Requiem for a Dream  2000   8.3         68   673397\n",
       "4                X-Men  2000   7.4         64   516669"
      ]
     },
     "execution_count": 23,
     "metadata": {},
     "output_type": "execute_result"
    }
   ],
   "source": [
    "movie_ratings.loc[:, \"year\"] = movie_ratings[\"year\"].str[-5:-1].astype(int)\n",
    "movie_ratings.head()"
   ]
  },
  {
   "cell_type": "markdown",
   "metadata": {},
   "source": [
    "---\n",
    "__Check whether the rating range for `imdb` and `metascore` columns are within expected interval.__"
   ]
  },
  {
   "cell_type": "code",
   "execution_count": 24,
   "metadata": {},
   "outputs": [
    {
     "data": {
      "text/html": [
       "<div>\n",
       "<style scoped>\n",
       "    .dataframe tbody tr th:only-of-type {\n",
       "        vertical-align: middle;\n",
       "    }\n",
       "\n",
       "    .dataframe tbody tr th {\n",
       "        vertical-align: top;\n",
       "    }\n",
       "\n",
       "    .dataframe thead th {\n",
       "        text-align: right;\n",
       "    }\n",
       "</style>\n",
       "<table border=\"1\" class=\"dataframe\">\n",
       "  <thead>\n",
       "    <tr style=\"text-align: right;\">\n",
       "      <th></th>\n",
       "      <th>imdb</th>\n",
       "      <th>metascore</th>\n",
       "    </tr>\n",
       "  </thead>\n",
       "  <tbody>\n",
       "    <tr>\n",
       "      <th>min</th>\n",
       "      <td>1.6</td>\n",
       "      <td>7.0</td>\n",
       "    </tr>\n",
       "    <tr>\n",
       "      <th>max</th>\n",
       "      <td>9.0</td>\n",
       "      <td>100.0</td>\n",
       "    </tr>\n",
       "  </tbody>\n",
       "</table>\n",
       "</div>"
      ],
      "text/plain": [
       "     imdb  metascore\n",
       "min   1.6        7.0\n",
       "max   9.0      100.0"
      ]
     },
     "execution_count": 24,
     "metadata": {},
     "output_type": "execute_result"
    }
   ],
   "source": [
    "movie_ratings.describe().loc[[\"min\", \"max\"],[\"imdb\", \"metascore\"]]"
   ]
  },
  {
   "cell_type": "markdown",
   "metadata": {},
   "source": [
    "---\n",
    "The maximum value for `metascore` should be 100, while the minimum 0. The maximum value for `imdb` is 10, while the mimimum 0. No abnormal value is found since all the values fall within the expected maximum and minimum value. "
   ]
  },
  {
   "cell_type": "markdown",
   "metadata": {},
   "source": [
    "__Normalise the `imdb` rating to standardise with `metascore` in order to make it easy for comparison during analysis process.__"
   ]
  },
  {
   "cell_type": "code",
   "execution_count": 25,
   "metadata": {},
   "outputs": [
    {
     "data": {
      "text/html": [
       "<div>\n",
       "<style scoped>\n",
       "    .dataframe tbody tr th:only-of-type {\n",
       "        vertical-align: middle;\n",
       "    }\n",
       "\n",
       "    .dataframe tbody tr th {\n",
       "        vertical-align: top;\n",
       "    }\n",
       "\n",
       "    .dataframe thead th {\n",
       "        text-align: right;\n",
       "    }\n",
       "</style>\n",
       "<table border=\"1\" class=\"dataframe\">\n",
       "  <thead>\n",
       "    <tr style=\"text-align: right;\">\n",
       "      <th></th>\n",
       "      <th>movies</th>\n",
       "      <th>year</th>\n",
       "      <th>imdb</th>\n",
       "      <th>metascore</th>\n",
       "      <th>votes</th>\n",
       "      <th>n_imdb</th>\n",
       "    </tr>\n",
       "  </thead>\n",
       "  <tbody>\n",
       "    <tr>\n",
       "      <th>0</th>\n",
       "      <td>Gladiator</td>\n",
       "      <td>2000</td>\n",
       "      <td>8.5</td>\n",
       "      <td>67</td>\n",
       "      <td>1155643</td>\n",
       "      <td>85</td>\n",
       "    </tr>\n",
       "    <tr>\n",
       "      <th>1</th>\n",
       "      <td>Memento</td>\n",
       "      <td>2000</td>\n",
       "      <td>8.5</td>\n",
       "      <td>80</td>\n",
       "      <td>991943</td>\n",
       "      <td>85</td>\n",
       "    </tr>\n",
       "    <tr>\n",
       "      <th>2</th>\n",
       "      <td>Snatch</td>\n",
       "      <td>2000</td>\n",
       "      <td>8.3</td>\n",
       "      <td>55</td>\n",
       "      <td>693236</td>\n",
       "      <td>83</td>\n",
       "    </tr>\n",
       "    <tr>\n",
       "      <th>3</th>\n",
       "      <td>Requiem for a Dream</td>\n",
       "      <td>2000</td>\n",
       "      <td>8.3</td>\n",
       "      <td>68</td>\n",
       "      <td>673397</td>\n",
       "      <td>83</td>\n",
       "    </tr>\n",
       "    <tr>\n",
       "      <th>4</th>\n",
       "      <td>X-Men</td>\n",
       "      <td>2000</td>\n",
       "      <td>7.4</td>\n",
       "      <td>64</td>\n",
       "      <td>516669</td>\n",
       "      <td>74</td>\n",
       "    </tr>\n",
       "  </tbody>\n",
       "</table>\n",
       "</div>"
      ],
      "text/plain": [
       "                movies  year  imdb  metascore    votes  n_imdb\n",
       "0            Gladiator  2000   8.5         67  1155643      85\n",
       "1              Memento  2000   8.5         80   991943      85\n",
       "2               Snatch  2000   8.3         55   693236      83\n",
       "3  Requiem for a Dream  2000   8.3         68   673397      83\n",
       "4                X-Men  2000   7.4         64   516669      74"
      ]
     },
     "execution_count": 25,
     "metadata": {},
     "output_type": "execute_result"
    }
   ],
   "source": [
    "movie_ratings[\"n_imdb\"] = (movie_ratings[\"imdb\"] * 10).astype(int)\n",
    "movie_ratings.head()"
   ]
  },
  {
   "cell_type": "markdown",
   "metadata": {},
   "source": [
    "---\n",
    "__Save the dataset as .csv format.__"
   ]
  },
  {
   "cell_type": "code",
   "execution_count": 26,
   "metadata": {},
   "outputs": [],
   "source": [
    "movie_ratings.to_csv(\"movie_ratings_2000_to_2017.csv\")"
   ]
  },
  {
   "cell_type": "markdown",
   "metadata": {},
   "source": [
    "## Notes for future reference. ##\n",
    "\n",
    "__List of things to take note:__\n",
    "\n",
    "* URL link and URL parameters may have changed in the future.\n",
    "* Structure of HTML code and HTML tag attributes may have changed. Current scraping framework may no longer work.\n",
    "* Under the section \"Handling NoneType data\", the cell may need to be updated.\n",
    "* Current `IMDB`, `metascore`, and `votes` will be outdated in the future. \n",
    "* The dataset only contain movies released in 2000-2017.\n",
    "\n",
    "Return to [Table of content:](#Table-of-content:)"
   ]
  }
 ],
 "metadata": {
  "kernelspec": {
   "display_name": "Python 3",
   "language": "python",
   "name": "python3"
  },
  "language_info": {
   "codemirror_mode": {
    "name": "ipython",
    "version": 3
   },
   "file_extension": ".py",
   "mimetype": "text/x-python",
   "name": "python",
   "nbconvert_exporter": "python",
   "pygments_lexer": "ipython3",
   "version": "3.7.3"
  }
 },
 "nbformat": 4,
 "nbformat_minor": 4
}
